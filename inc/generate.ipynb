import pandas as pd

df = pd.read_csv('https://raw.githubusercontent.com/veridetta/fishernet/master/01.csv')

df.month = pd.to_datetime(df.month)
df = df.set_index('month')
df.head()
